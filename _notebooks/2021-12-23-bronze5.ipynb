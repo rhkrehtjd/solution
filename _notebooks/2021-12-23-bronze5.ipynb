{
 "cells": [
  {
   "cell_type": "markdown",
   "id": "bcd33646-e1ea-4ca6-bbef-a28a944562d6",
   "metadata": {},
   "source": [
    "# BRONZE 5등급 문제풀이"
   ]
  },
  {
   "cell_type": "markdown",
   "id": "eb666745-6a29-4f3c-8faf-1d2031e999db",
   "metadata": {},
   "source": [
    "### 2021.12.23"
   ]
  },
  {
   "cell_type": "markdown",
   "id": "a469b13a-119d-4761-9677-33c404f3e06d",
   "metadata": {},
   "source": [
    "> ### `1000번`"
   ]
  },
  {
   "cell_type": "code",
   "execution_count": 30,
   "id": "3f877ff2-f04b-49b7-9c60-55b1e4ad05bb",
   "metadata": {},
   "outputs": [],
   "source": [
    "lista=['3454','342','223']"
   ]
  },
  {
   "cell_type": "code",
   "execution_count": 31,
   "id": "1b618cb4-629d-441a-9015-b970eb406df1",
   "metadata": {},
   "outputs": [],
   "source": [
    "lista=list(map(int,lista))"
   ]
  },
  {
   "cell_type": "code",
   "execution_count": 32,
   "id": "7c1be541-9d85-4b2f-b827-2c4214aedcf5",
   "metadata": {},
   "outputs": [
    {
     "data": {
      "text/plain": [
       "[3454, 342, 223]"
      ]
     },
     "execution_count": 32,
     "metadata": {},
     "output_type": "execute_result"
    }
   ],
   "source": [
    "lista"
   ]
  },
  {
   "cell_type": "code",
   "execution_count": 45,
   "id": "14982917-8185-4954-8fb7-5c2cf35e005d",
   "metadata": {},
   "outputs": [
    {
     "name": "stdin",
     "output_type": "stream",
     "text": [
      " 9223372036854775807 9223372036854775808\n"
     ]
    },
    {
     "name": "stdout",
     "output_type": "stream",
     "text": [
      "18446744073709551615\n"
     ]
    }
   ],
   "source": [
    "[a,b] = map(int, input().split(' '))\n",
    "print(a+b)"
   ]
  },
  {
   "cell_type": "markdown",
   "id": "7ee751f4-c11f-46d9-baa9-1c4bbc677d08",
   "metadata": {},
   "source": [
    "- input()만 하면 str 형태로 'a b' 이렇게 저장됨\n",
    "\n",
    "- 따라서 split(' ') 또는 split()를 통해 list 형태 만듦.\n",
    "\n",
    "- 그리고 map 함수를 통해 list형태에서 int형으로 변환 할 수 있음"
   ]
  },
  {
   "cell_type": "markdown",
   "id": "e3d78b23-6353-44a4-bd92-0ef3cbb8be30",
   "metadata": {},
   "source": [
    "첫째줄에 동시에 입력해야 해서 map함수를 사용한 것"
   ]
  },
  {
   "cell_type": "markdown",
   "id": "2b1a0e4a-02cb-469b-b2c0-1f7e002097cf",
   "metadata": {},
   "source": [
    "2338번과 비교하기"
   ]
  },
  {
   "cell_type": "markdown",
   "id": "1a68f225-e16d-47e6-8cd1-e24b57b722c6",
   "metadata": {},
   "source": [
    "> ### `1001번`"
   ]
  },
  {
   "cell_type": "code",
   "execution_count": 1,
   "id": "8370e4fe-ebf4-4093-ba10-62eac5642a24",
   "metadata": {},
   "outputs": [
    {
     "name": "stdin",
     "output_type": "stream",
     "text": [
      " 3 2\n"
     ]
    },
    {
     "name": "stdout",
     "output_type": "stream",
     "text": [
      "1\n"
     ]
    }
   ],
   "source": [
    "(a,b) = map(int, input().split(' '))\n",
    "print(a-b)"
   ]
  },
  {
   "cell_type": "markdown",
   "id": "f14801bf-1387-4e5f-8928-4357e17e0da6",
   "metadata": {},
   "source": [
    "> ### `1271번`"
   ]
  },
  {
   "cell_type": "code",
   "execution_count": null,
   "id": "bd94fd13-8d00-47c6-817a-fff0cd81b1d1",
   "metadata": {},
   "outputs": [],
   "source": [
    "(a,b) = map(int, input().split(' '))\n",
    "print(a//b)\n",
    "print(a%b)"
   ]
  },
  {
   "cell_type": "markdown",
   "id": "d6e1c456-e436-406b-901a-821f767e1373",
   "metadata": {},
   "source": [
    "---"
   ]
  },
  {
   "cell_type": "markdown",
   "id": "309da5f5-ab9e-4b8c-9300-76da4770ce96",
   "metadata": {},
   "source": [
    "### 2021.12.24"
   ]
  },
  {
   "cell_type": "markdown",
   "id": "88f8b88b-76d6-458b-bbfa-2bdb2bd4e874",
   "metadata": {},
   "source": [
    "> `1550번` 16진수 이해 안 감"
   ]
  },
  {
   "cell_type": "markdown",
   "id": "fe012ab6-d6de-436d-a9b8-c9b1ad67a9e6",
   "metadata": {},
   "source": [
    "> `2338번`"
   ]
  },
  {
   "cell_type": "code",
   "execution_count": 16,
   "id": "8cb7a4e6-09e3-4e7d-8c0c-70002d0a430a",
   "metadata": {},
   "outputs": [
    {
     "name": "stdin",
     "output_type": "stream",
     "text": [
      " 1\n",
      " 5\n"
     ]
    },
    {
     "name": "stdout",
     "output_type": "stream",
     "text": [
      "6\n",
      "-4\n",
      "5\n"
     ]
    }
   ],
   "source": [
    "a = int(input())\n",
    "b = int(input())\n",
    "print(a+b)\n",
    "print(a-b)\n",
    "print(a*b)"
   ]
  },
  {
   "cell_type": "markdown",
   "id": "50216e33-9856-40a1-99c3-6cb8a6903562",
   "metadata": {},
   "source": [
    "input만 하면 str으로 저장됨"
   ]
  },
  {
   "cell_type": "markdown",
   "id": "24cd3ed9-f104-43ec-afc3-403d66736d74",
   "metadata": {},
   "source": [
    "> `2475번`"
   ]
  },
  {
   "cell_type": "code",
   "execution_count": 17,
   "id": "162dd2f0-6a82-4eef-a25d-b0550d6059ee",
   "metadata": {},
   "outputs": [
    {
     "name": "stdin",
     "output_type": "stream",
     "text": [
      " 0 4 2 5 6\n"
     ]
    },
    {
     "name": "stdout",
     "output_type": "stream",
     "text": [
      "1\n"
     ]
    }
   ],
   "source": [
    "(a,b,c,d,e) = map(int, input().split(' '))\n",
    "print((a**2+b**2+c**2+d**2+e**2)%10)"
   ]
  },
  {
   "cell_type": "code",
   "execution_count": 36,
   "id": "dcf4a40c-6c1e-4fc1-a935-a48f9048d55f",
   "metadata": {},
   "outputs": [
    {
     "name": "stdin",
     "output_type": "stream",
     "text": [
      " 0 4 2 5 6\n"
     ]
    },
    {
     "name": "stdout",
     "output_type": "stream",
     "text": [
      "1\n"
     ]
    }
   ],
   "source": [
    "res = 0\n",
    "for n in list(map(int, input().split())):\n",
    "    res += n**2\n",
    "print(res%10)"
   ]
  },
  {
   "cell_type": "code",
   "execution_count": 37,
   "id": "1d4f2204-df69-499c-9b9e-bff56611c330",
   "metadata": {},
   "outputs": [
    {
     "name": "stdin",
     "output_type": "stream",
     "text": [
      " 1 5 8 9 6\n"
     ]
    },
    {
     "name": "stdout",
     "output_type": "stream",
     "text": [
      "7\n"
     ]
    }
   ],
   "source": [
    "print(sum([n**2 for n in map(int, input().split())]) % 10)"
   ]
  },
  {
   "cell_type": "markdown",
   "id": "dc1bd4f9-4fde-4cf6-b5c7-dfa5ce8a30cd",
   "metadata": {},
   "source": [
    "> `2557번`"
   ]
  },
  {
   "cell_type": "markdown",
   "id": "643e4894-fa8b-4e2b-bee1-fad79af3a917",
   "metadata": {},
   "source": [
    "내 생각엔 이거 같은데.."
   ]
  },
  {
   "cell_type": "code",
   "execution_count": 38,
   "id": "1f70375c-e942-4f79-82d5-350123bdc60e",
   "metadata": {},
   "outputs": [
    {
     "name": "stdin",
     "output_type": "stream",
     "text": [
      " \n"
     ]
    },
    {
     "name": "stdout",
     "output_type": "stream",
     "text": [
      "Hello World!\n"
     ]
    }
   ],
   "source": [
    "if (input()==\"\") : print('Hello World!')"
   ]
  },
  {
   "cell_type": "markdown",
   "id": "c5e19746-def1-44e9-805e-94a84361e2e7",
   "metadata": {},
   "source": [
    "이거란다."
   ]
  },
  {
   "cell_type": "code",
   "execution_count": 40,
   "id": "1b9eb016-0f32-4a15-8e73-f62a8885d2e0",
   "metadata": {},
   "outputs": [
    {
     "name": "stdout",
     "output_type": "stream",
     "text": [
      "Hello World!\n"
     ]
    }
   ],
   "source": [
    "print('Hello World!')"
   ]
  },
  {
   "cell_type": "markdown",
   "id": "a2a5371e-6b60-4e8a-85b3-c2eb0ea29f39",
   "metadata": {},
   "source": [
    "> `2558번`"
   ]
  },
  {
   "cell_type": "code",
   "execution_count": 41,
   "id": "ef7285d0-8732-4faa-93b7-5240d30e40a7",
   "metadata": {},
   "outputs": [
    {
     "name": "stdin",
     "output_type": "stream",
     "text": [
      " 1\n",
      " 2\n"
     ]
    },
    {
     "name": "stdout",
     "output_type": "stream",
     "text": [
      "3\n"
     ]
    }
   ],
   "source": [
    "a = int(input())\n",
    "b = int(input())\n",
    "print(a+b)"
   ]
  },
  {
   "cell_type": "markdown",
   "id": "ccd8bc0c-0cdd-422a-9196-6dc11c8f880d",
   "metadata": {},
   "source": [
    "> `2845번`"
   ]
  },
  {
   "cell_type": "code",
   "execution_count": 43,
   "id": "24db39e3-0815-495c-9010-844c1555c57d",
   "metadata": {},
   "outputs": [
    {
     "name": "stdin",
     "output_type": "stream",
     "text": [
      " 5 20\n",
      " 99 101 1000 0 97\n"
     ]
    },
    {
     "name": "stdout",
     "output_type": "stream",
     "text": [
      "-1 1 900 -100 -3\n"
     ]
    }
   ],
   "source": [
    "[a,b]=map(int,input().split())\n",
    "[c,d,e,f,g]=map(int,input().split())\n",
    "print(c-a*b,d-a*b,e-a*b,f-a*b,g-a*b)"
   ]
  },
  {
   "cell_type": "code",
   "execution_count": 46,
   "id": "1bceb60c-26dc-4cf8-9090-15a1faf8d4bd",
   "metadata": {},
   "outputs": [
    {
     "name": "stdin",
     "output_type": "stream",
     "text": [
      " 8 50\n",
      " 5 6 8 4 9\n"
     ]
    },
    {
     "name": "stdout",
     "output_type": "stream",
     "text": [
      "-395 -394 -392 -396 -391 "
     ]
    }
   ],
   "source": [
    "a, b = map(int, input().split())\n",
    "people = list(map(int, input().split()))\n",
    "tot = a * b\n",
    "for i in people:\n",
    "    print(i - tot, end=' ')"
   ]
  },
  {
   "cell_type": "markdown",
   "id": "45ea5e94-07d2-47bf-b0b5-0d3d34d9e458",
   "metadata": {},
   "source": [
    "위 셀을 보면 마지막 줄에서 포문을 실행하고 있는데, 한번씩 실행하므로 원래대로라면 하나 출력하고 다음줄에 출력 다음줄에 출력 이런식으로 진행이 된다. 그런데 print 옵션 중 end='' 안에 원래 \\n 적당한 수를 입력해줘야 하는데 빈 문자열을 지정해주면 다음 번 출력이 아래로 가는 게 아니라 바로 뒤로 출력되게 해줄 수 있다. default값으로는 프린트해야되는 개수 만큼 \\n이 입력되어 있고 빈문자열을 지정해줌으로써 강제로 \\n을 지워주는 것이다. "
   ]
  },
  {
   "cell_type": "markdown",
   "id": "65cdc2ed-3e0e-4d57-911f-195b8ca4014f",
   "metadata": {},
   "source": [
    "* 출력문 print는 두개의 옵션이 있음\n",
    "> sep='' -> print문의 출력문들 사이에 원하는 내용을 넣을 수 있다, 기본값으로는 공백이 들어간다. 여기서 \\n을 입력해주면 print해야하는 개수만큼 아래줄로 넘어가고 출력하게 된다\n",
    " \n",
    "   > end='' -> 출력을 완료한 뒤의 내용을 수정할 수 있다. 기본 값으로는 개행"
   ]
  },
  {
   "cell_type": "code",
   "execution_count": 1,
   "id": "8992dfbb-7228-4ed7-a365-6372af73ef21",
   "metadata": {},
   "outputs": [
    {
     "name": "stdout",
     "output_type": "stream",
     "text": [
      "a\n",
      "c\n",
      "a\n",
      "s\n"
     ]
    }
   ],
   "source": [
    "print('a','c','a','s',sep='\\n')"
   ]
  },
  {
   "cell_type": "markdown",
   "id": "e29c837d-d18d-4903-a39e-7d5d88125990",
   "metadata": {},
   "source": [
    "> `2914번`"
   ]
  },
  {
   "cell_type": "code",
   "execution_count": 7,
   "id": "1320e9d2-8f57-4562-bc8b-651ae4ddb9f9",
   "metadata": {},
   "outputs": [
    {
     "name": "stdin",
     "output_type": "stream",
     "text": [
      " 56 89\n"
     ]
    },
    {
     "name": "stdout",
     "output_type": "stream",
     "text": [
      "4929\n"
     ]
    }
   ],
   "source": [
    "a,b=map(int,input().split())\n",
    "print((a*(b-1))+1)"
   ]
  },
  {
   "cell_type": "markdown",
   "id": "d388d5ad-da88-467f-8bef-41659c0d5a2b",
   "metadata": {},
   "source": [
    "> `3003번`"
   ]
  },
  {
   "cell_type": "code",
   "execution_count": 11,
   "id": "f3699186-c9c8-4e85-afdc-63f79f4581c3",
   "metadata": {},
   "outputs": [
    {
     "name": "stdin",
     "output_type": "stream",
     "text": [
      " 2 1 2 1 2 1\n"
     ]
    },
    {
     "name": "stdout",
     "output_type": "stream",
     "text": [
      "-1 0 0 1 0 7\n"
     ]
    }
   ],
   "source": [
    "a,b,c,d,e,f=map(int,input().split())\n",
    "print(1-a,1-b,2-c,2-d,2-e,8-f)"
   ]
  },
  {
   "cell_type": "markdown",
   "id": "0e7f6c3d-b91e-4e32-85ff-e18d4c49d22a",
   "metadata": {},
   "source": [
    "> `3046번`"
   ]
  },
  {
   "cell_type": "code",
   "execution_count": 15,
   "id": "8a2529e2-58a8-40f2-a710-1e280ad4743a",
   "metadata": {},
   "outputs": [
    {
     "name": "stdin",
     "output_type": "stream",
     "text": [
      " 11 15\n"
     ]
    },
    {
     "name": "stdout",
     "output_type": "stream",
     "text": [
      "19\n"
     ]
    }
   ],
   "source": [
    "a,b=map(int,input().split())\n",
    "print(-(a-2*b))"
   ]
  },
  {
   "cell_type": "markdown",
   "id": "4af18f12-e7be-4119-b22e-6c05d968a554",
   "metadata": {},
   "source": [
    "> `5337번`"
   ]
  },
  {
   "cell_type": "code",
   "execution_count": 24,
   "id": "4ad90770-f91a-4dbf-b12d-59aed72b2ec7",
   "metadata": {},
   "outputs": [
    {
     "name": "stdout",
     "output_type": "stream",
     "text": [
      ".  .   .\n",
      "|  | _ | _. _ ._ _  _\n",
      "|/\\|(/.|(_.(_)[ | )(/.\n",
      "\n"
     ]
    }
   ],
   "source": [
    "print(\"\"\"\\\n",
    ".  .   .\n",
    "|  | _ | _. _ ._ _  _\n",
    "|/\\|(/.|(_.(_)[ | )(/.\n",
    "\"\"\")"
   ]
  },
  {
   "cell_type": "markdown",
   "id": "17547375-ee35-4dbb-893c-36dcf589e9d2",
   "metadata": {},
   "source": [
    "> print에서 줄 바꿈 하는 방법\n",
    "- \"\"\"\\~\"\"\" 또는 print(asd\\nasd\\nasd)을 활용\n",
    "- str에서만 활용가능해보임"
   ]
  },
  {
   "cell_type": "code",
   "execution_count": 47,
   "id": "a0f3b12a-6d94-481e-98c6-5f9775460e24",
   "metadata": {},
   "outputs": [
    {
     "name": "stdout",
     "output_type": "stream",
     "text": [
      "asd\n",
      "asd\n",
      "asd\n"
     ]
    }
   ],
   "source": [
    "print(\"asd\\nasd\\nasd\")"
   ]
  },
  {
   "cell_type": "markdown",
   "id": "35d22fee-df7b-4b82-b6ca-06c339d83437",
   "metadata": {},
   "source": [
    "> `5338번`"
   ]
  },
  {
   "cell_type": "code",
   "execution_count": 26,
   "id": "b356e712-b2a3-4bd4-9604-ee224261d1a4",
   "metadata": {},
   "outputs": [
    {
     "name": "stdout",
     "output_type": "stream",
     "text": [
      "       _.-;;-._\n",
      "'-..-'|   ||   |\n",
      "'-..-'|_.-;;-._|\n",
      "'-..-'|   ||   |\n",
      "'-..-'|_.-''-._|\n",
      "\n"
     ]
    }
   ],
   "source": [
    "print(\"\"\"\\\n",
    "       _.-;;-._\n",
    "'-..-'|   ||   |\n",
    "'-..-'|_.-;;-._|\n",
    "'-..-'|   ||   |\n",
    "'-..-'|_.-''-._|\n",
    "\"\"\")"
   ]
  },
  {
   "cell_type": "markdown",
   "id": "dfdce9ad-f631-4cc6-94c0-47eaa1f340a5",
   "metadata": {},
   "source": [
    "> `5522번`"
   ]
  },
  {
   "cell_type": "code",
   "execution_count": 27,
   "id": "4dd5b627-e682-4d9e-b4ed-186ca726ddad",
   "metadata": {},
   "outputs": [
    {
     "name": "stdin",
     "output_type": "stream",
     "text": [
      " 1\n",
      " 2\n",
      " 3\n",
      " 4\n",
      " 5\n"
     ]
    },
    {
     "name": "stdout",
     "output_type": "stream",
     "text": [
      "15\n"
     ]
    }
   ],
   "source": [
    "a=int(input())\n",
    "b=int(input())\n",
    "c=int(input())\n",
    "d=int(input())\n",
    "e=int(input())\n",
    "print(a+b+c+d+e)"
   ]
  },
  {
   "cell_type": "markdown",
   "id": "465ae9b2-ee0f-402e-b152-def4d232fc74",
   "metadata": {},
   "source": [
    "> `5554번`"
   ]
  },
  {
   "cell_type": "code",
   "execution_count": null,
   "id": "775a1871-78dd-490c-acde-fd15c1b3a118",
   "metadata": {},
   "outputs": [],
   "source": [
    "a=int(input())\n",
    "b=int(input())\n",
    "c=int(input())\n",
    "d=int(input())\n",
    "print((a+b+c+d)//60)\n",
    "print((a+b+c+d)%60)"
   ]
  },
  {
   "cell_type": "code",
   "execution_count": 5,
   "id": "b00dcac7-d895-4227-b477-65a63aacfeb2",
   "metadata": {},
   "outputs": [
    {
     "name": "stdin",
     "output_type": "stream",
     "text": [
      " 465468\n",
      " 4684\n",
      " 454\n",
      " 5455\n"
     ]
    },
    {
     "name": "stdout",
     "output_type": "stream",
     "text": [
      "7934\n",
      "21\n"
     ]
    }
   ],
   "source": [
    "sum = 0\n",
    "for _ in range(4) :\n",
    "    sum += int(input())\n",
    "print(sum // 60)\n",
    "print(sum % 60)"
   ]
  },
  {
   "cell_type": "markdown",
   "id": "6fb32b41-d690-4c71-95ab-f37f71cba4e5",
   "metadata": {},
   "source": [
    "> `6749번`"
   ]
  },
  {
   "cell_type": "code",
   "execution_count": 6,
   "id": "153ec49d-1c65-413f-87a3-e3d788c7a3a7",
   "metadata": {},
   "outputs": [
    {
     "name": "stdin",
     "output_type": "stream",
     "text": [
      " 12\n",
      " 15\n"
     ]
    },
    {
     "name": "stdout",
     "output_type": "stream",
     "text": [
      "18\n"
     ]
    }
   ],
   "source": [
    "a=int(input())\n",
    "b=int(input())\n",
    "print(b+b-a)"
   ]
  },
  {
   "cell_type": "markdown",
   "id": "751c7d60-5963-4aa7-a049-207b74c18723",
   "metadata": {},
   "source": [
    "> `8393번`"
   ]
  },
  {
   "cell_type": "code",
   "execution_count": 27,
   "id": "594751be-bdda-4dbb-af90-99c65c30c725",
   "metadata": {},
   "outputs": [
    {
     "name": "stdin",
     "output_type": "stream",
     "text": [
      " 3\n"
     ]
    },
    {
     "name": "stdout",
     "output_type": "stream",
     "text": [
      "6\n"
     ]
    }
   ],
   "source": [
    "a=int(input())\n",
    "print(round((a*(a+1))/2))"
   ]
  },
  {
   "cell_type": "code",
   "execution_count": 31,
   "id": "7acd3c1f-a1cf-43b5-b3de-feecf78c600a",
   "metadata": {},
   "outputs": [
    {
     "data": {
      "text/plain": [
       "555.37"
      ]
     },
     "execution_count": 31,
     "metadata": {},
     "output_type": "execute_result"
    }
   ],
   "source": [
    "round(555.3666,2)\n",
    "#반올림해서 나타낼 자릿수"
   ]
  },
  {
   "cell_type": "markdown",
   "id": "e9ead400-c260-47e1-a9c0-200101d79d86",
   "metadata": {},
   "source": [
    "> `10699번`"
   ]
  },
  {
   "cell_type": "code",
   "execution_count": 44,
   "id": "393d8980-9337-48e9-ac9e-c91f5b29f1f1",
   "metadata": {},
   "outputs": [
    {
     "name": "stdout",
     "output_type": "stream",
     "text": [
      "2021-12-24\n"
     ]
    }
   ],
   "source": [
    "import datetime\n",
    "print(str(datetime.datetime.now())[:10])"
   ]
  },
  {
   "cell_type": "markdown",
   "id": "8d76ede8-e9a6-4eff-b973-de9c74448d27",
   "metadata": {},
   "source": [
    "> `10962번`"
   ]
  },
  {
   "cell_type": "code",
   "execution_count": 46,
   "id": "469ec959-2039-4b75-ac0f-5bca7cbf0989",
   "metadata": {},
   "outputs": [
    {
     "name": "stdin",
     "output_type": "stream",
     "text": [
      " kds\n"
     ]
    },
    {
     "name": "stdout",
     "output_type": "stream",
     "text": [
      "kds??!\n"
     ]
    }
   ],
   "source": [
    "print(input()+\"??!\")"
   ]
  },
  {
   "cell_type": "markdown",
   "id": "97815125-023e-4545-8388-67e8576d2842",
   "metadata": {},
   "source": [
    "> `11283번`"
   ]
  },
  {
   "cell_type": "code",
   "execution_count": 49,
   "id": "c7f7b2e1-bf6e-49dd-a6cf-2c2fc15ef9e6",
   "metadata": {},
   "outputs": [
    {
     "name": "stdin",
     "output_type": "stream",
     "text": [
      " 곽\n"
     ]
    },
    {
     "name": "stdout",
     "output_type": "stream",
     "text": [
      "254\n"
     ]
    }
   ],
   "source": [
    "print(ord(input())-44031)"
   ]
  },
  {
   "cell_type": "markdown",
   "id": "b447ba3b-d906-4174-b155-265e5bd5c99e",
   "metadata": {},
   "source": [
    "> `14652번`"
   ]
  },
  {
   "cell_type": "code",
   "execution_count": 57,
   "id": "e88cde42-9303-4711-9c43-b5c5041a71ab",
   "metadata": {},
   "outputs": [
    {
     "name": "stdin",
     "output_type": "stream",
     "text": [
      " 5 6 8\n"
     ]
    },
    {
     "name": "stdout",
     "output_type": "stream",
     "text": [
      "1 2\n"
     ]
    }
   ],
   "source": [
    "N, M, K = map(int, input().split())\n",
    "n = K // M\n",
    "m = K % M\n",
    "print(n, m)"
   ]
  },
  {
   "cell_type": "markdown",
   "id": "348e4475-e52a-4d8f-9a9a-14567f057703",
   "metadata": {},
   "source": [
    "### 2021.12.25 `MERRY CHISTMAS`"
   ]
  },
  {
   "cell_type": "markdown",
   "id": "bf6e7bb7-aef9-41a4-9a99-a1af9ac63616",
   "metadata": {},
   "source": [
    "> `15727번`"
   ]
  },
  {
   "cell_type": "code",
   "execution_count": 4,
   "id": "a5b46047-86d5-47cf-82f6-4a626e4dc44c",
   "metadata": {},
   "outputs": [
    {
     "name": "stdin",
     "output_type": "stream",
     "text": [
      " 88\n"
     ]
    },
    {
     "name": "stdout",
     "output_type": "stream",
     "text": [
      "18\n"
     ]
    }
   ],
   "source": [
    "import math \n",
    "a=int(input())/5\n",
    "print(math.ceil(a))"
   ]
  },
  {
   "cell_type": "markdown",
   "id": "f3b0f203-a6fb-4c69-bb90-cb389bf5a31e",
   "metadata": {},
   "source": [
    "> `15894번`"
   ]
  },
  {
   "cell_type": "code",
   "execution_count": 8,
   "id": "84e10228-6d20-4189-81d4-87483e619bd6",
   "metadata": {},
   "outputs": [
    {
     "name": "stdin",
     "output_type": "stream",
     "text": [
      " 54654\n"
     ]
    },
    {
     "name": "stdout",
     "output_type": "stream",
     "text": [
      "218616\n"
     ]
    }
   ],
   "source": [
    "print(4*(int(input())))"
   ]
  },
  {
   "cell_type": "markdown",
   "id": "0c6a8ad8-4c59-41c3-a713-718dba2d8914",
   "metadata": {},
   "source": [
    "> `16430번`"
   ]
  },
  {
   "cell_type": "code",
   "execution_count": 19,
   "id": "3c6c7c61-1b34-4efc-bce4-0702d2cfebf5",
   "metadata": {},
   "outputs": [
    {
     "name": "stdin",
     "output_type": "stream",
     "text": [
      " 5 8\n"
     ]
    },
    {
     "name": "stdout",
     "output_type": "stream",
     "text": [
      "3 8\n"
     ]
    }
   ],
   "source": [
    "from fractions import Fraction\n",
    "a,b=map(int,input().split())\n",
    "c=str(1-Fraction(a,b))\n",
    "print(c[0],c[2])"
   ]
  },
  {
   "cell_type": "markdown",
   "id": "35f4e0cd-a7c0-4569-b938-fb71be38377b",
   "metadata": {},
   "source": [
    "- 분수!!"
   ]
  },
  {
   "cell_type": "code",
   "execution_count": 28,
   "id": "9abf2343-c406-4788-929c-1fc5bba4529d",
   "metadata": {},
   "outputs": [
    {
     "data": {
      "text/plain": [
       "'4/3'"
      ]
     },
     "execution_count": 28,
     "metadata": {},
     "output_type": "execute_result"
    }
   ],
   "source": [
    "str(2-Fraction(2,3))"
   ]
  },
  {
   "cell_type": "markdown",
   "id": "3351381c-7242-4b6b-b1ea-dea4557d3fef",
   "metadata": {},
   "source": [
    "> `17496번`"
   ]
  },
  {
   "cell_type": "code",
   "execution_count": 35,
   "id": "7ffd4b8f-34d9-4c66-97b8-307585d3ff2b",
   "metadata": {},
   "outputs": [
    {
     "name": "stdin",
     "output_type": "stream",
     "text": [
      " 54 84 54 66\n"
     ]
    },
    {
     "name": "stdout",
     "output_type": "stream",
     "text": [
      "0\n"
     ]
    }
   ],
   "source": [
    "a,b,c,d=map(int,input().split())\n",
    "if (a%b != 0) : print((a//b)*c*d)\n",
    "elif (a%b == 0): print(((a//b)-1)*c*d)"
   ]
  },
  {
   "cell_type": "markdown",
   "id": "48972738-2ed8-4efe-9a10-9194dffec7c9",
   "metadata": {},
   "source": [
    "> `20492번`"
   ]
  },
  {
   "cell_type": "code",
   "execution_count": 38,
   "id": "7073f8bb-9d5b-4225-a69b-dd648865fff1",
   "metadata": {},
   "outputs": [
    {
     "name": "stdin",
     "output_type": "stream",
     "text": [
      " 1000\n"
     ]
    },
    {
     "name": "stdout",
     "output_type": "stream",
     "text": [
      "780 956\n"
     ]
    }
   ],
   "source": [
    "a=int(input())\n",
    "print(int(a*0.78),int(a-a*0.2*0.22))"
   ]
  }
 ],
 "metadata": {
  "kernelspec": {
   "display_name": "Python 3 (ipykernel)",
   "language": "python",
   "name": "python3"
  },
  "language_info": {
   "codemirror_mode": {
    "name": "ipython",
    "version": 3
   },
   "file_extension": ".py",
   "mimetype": "text/x-python",
   "name": "python",
   "nbconvert_exporter": "python",
   "pygments_lexer": "ipython3",
   "version": "3.8.11"
  }
 },
 "nbformat": 4,
 "nbformat_minor": 5
}
