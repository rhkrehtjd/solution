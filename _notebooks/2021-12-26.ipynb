{
 "cells": [
  {
   "cell_type": "markdown",
   "id": "fe326a4f-c9dd-4116-bcf9-cd9fe5b94cd3",
   "metadata": {},
   "source": [
    "# BRONZE 4등급 문제풀이"
   ]
  },
  {
   "cell_type": "markdown",
   "id": "bf6c08ea-faec-4b6b-b9d7-0fb41daaac28",
   "metadata": {},
   "source": [
    "> `1297번`"
   ]
  },
  {
   "cell_type": "code",
   "execution_count": null,
   "id": "6675b7a5-bc0f-4d93-9283-bf01ef2cf32d",
   "metadata": {},
   "outputs": [],
   "source": [
    "import math\n",
    "a,b,c=map(int,input().split())\n",
    "z=math.sqrt(a**2/((b**2)+(c**2)))\n",
    "print(math.trunc(b*z),math.trunc(c*z))"
   ]
  },
  {
   "cell_type": "markdown",
   "id": "cf49ee88-bc5e-42e7-b3a4-6aa0f1b5e376",
   "metadata": {},
   "source": [
    "- math.ceil = 같거나 큰 방향으로 올림\n",
    "- math.floor = 같거나 작은 방향으로 내림\n",
    "- math.trunc = 그냥 소수점 떼기\n",
    "- round(수,자릿수) = 반올림, 자릿수까지를 표현하는 것을 의미"
   ]
  },
  {
   "cell_type": "code",
   "execution_count": null,
   "id": "ec15dee7-a207-4cb3-9721-2cefd633a694",
   "metadata": {},
   "outputs": [],
   "source": [
    "round(345.675,1)"
   ]
  },
  {
   "cell_type": "code",
   "execution_count": null,
   "id": "d0bc2ee6-a4b4-4729-bede-f471cfb095b0",
   "metadata": {},
   "outputs": [],
   "source": [
    "round(345.675,0)"
   ]
  },
  {
   "cell_type": "code",
   "execution_count": null,
   "id": "7c56381c-8558-4d30-9ef6-d5beef0f42b3",
   "metadata": {},
   "outputs": [],
   "source": [
    "round(345.675,-1)"
   ]
  },
  {
   "cell_type": "markdown",
   "id": "47b692c5-f583-4f5b-854e-1d9d1480b97d",
   "metadata": {},
   "source": [
    "> `1330번`"
   ]
  },
  {
   "cell_type": "code",
   "execution_count": null,
   "id": "9084e00e-f5dc-4a32-8597-489c8fb4ca6d",
   "metadata": {},
   "outputs": [],
   "source": [
    "a,b=map(int,input().split())\n",
    "if (a<b) : print('<')\n",
    "if (a>b) : print('>')\n",
    "if (a==b) : print('==')"
   ]
  },
  {
   "cell_type": "markdown",
   "id": "92441323-ab24-4813-bceb-b17d28da9586",
   "metadata": {},
   "source": [
    "> `1712번`"
   ]
  },
  {
   "cell_type": "code",
   "execution_count": null,
   "id": "2236f731-be1b-4a50-b4fa-4004de119329",
   "metadata": {},
   "outputs": [],
   "source": [
    "import math\n",
    "a,b,c=map(int,input().split())\n",
    "d = a/(c-b)\n",
    "if (d>0) :print(math.trunc(d+1))\n",
    "else :print(math.trunc(d+1))"
   ]
  },
  {
   "cell_type": "markdown",
   "id": "a4b1975b-0f7d-44b8-8e6e-5ecedff41034",
   "metadata": {},
   "source": [
    "이거 왜 틀렸지?"
   ]
  },
  {
   "cell_type": "code",
   "execution_count": null,
   "id": "39947708-b3e5-4c90-8045-55f8cf0694f2",
   "metadata": {},
   "outputs": [],
   "source": [
    "a,b,c=map(int,input().split())\n",
    "if (b>=c): print(-1)\n",
    "else: print(a//(c-b) +1)"
   ]
  },
  {
   "cell_type": "markdown",
   "id": "c8834555-032f-4a72-8034-7f31d471e63b",
   "metadata": {},
   "source": [
    "이건 맞았는데?"
   ]
  },
  {
   "cell_type": "markdown",
   "id": "d63d8a3f-7818-40ae-9a67-0df3dcdd8fd0",
   "metadata": {},
   "source": [
    "> `2420번`"
   ]
  },
  {
   "cell_type": "code",
   "execution_count": 8,
   "id": "917b12ab-293a-4ae6-96ab-3a25fb97c87f",
   "metadata": {},
   "outputs": [
    {
     "name": "stdin",
     "output_type": "stream",
     "text": [
      " 8 -8\n"
     ]
    },
    {
     "name": "stdout",
     "output_type": "stream",
     "text": [
      "16\n"
     ]
    }
   ],
   "source": [
    "a,b=map(int,input().split())\n",
    "print(abs(a-b))"
   ]
  },
  {
   "cell_type": "markdown",
   "id": "bfe4359a-e9c1-4fb9-b765-4ab6bb09c6c7",
   "metadata": {},
   "source": [
    "> `2480번`"
   ]
  },
  {
   "cell_type": "code",
   "execution_count": 32,
   "id": "dbcde81e-76f9-4297-9edb-0aa534af0b81",
   "metadata": {},
   "outputs": [
    {
     "name": "stdin",
     "output_type": "stream",
     "text": [
      " 6 2 5\n"
     ]
    },
    {
     "name": "stdout",
     "output_type": "stream",
     "text": [
      "600\n"
     ]
    }
   ],
   "source": [
    "a,b,c=map(int,input().split())\n",
    "if (a==b==c): print(10000+a*1000)\n",
    "elif (a==b and a!=c): print(1000+a*100)\n",
    "elif (a==c and a!=b): print(1000+a*100)\n",
    "elif (c==b and c!=a): print(1000+b*100)\n",
    "else : print(max(a,b,c)*100)"
   ]
  },
  {
   "cell_type": "markdown",
   "id": "9154d821-0645-401a-afe6-dbbd5d76bd0d",
   "metadata": {},
   "source": [
    "> `2525번`"
   ]
  },
  {
   "cell_type": "code",
   "execution_count": 69,
   "id": "179655fa-6da4-402c-9fb5-ffae4ca4d76e",
   "metadata": {},
   "outputs": [
    {
     "name": "stdin",
     "output_type": "stream",
     "text": [
      " 12 23\n",
      " 3434\n"
     ]
    },
    {
     "name": "stdout",
     "output_type": "stream",
     "text": [
      "45 37\n"
     ]
    }
   ],
   "source": [
    "a,b=map(int,input().split())\n",
    "c=int(input())\n",
    "if b+c >= 60 and a+((b+c)//60) >= 24:\n",
    "    a+=((b+c)//60)-24 # 여기서 실행 추가해주려면 콤마 찍고 하는 게 아니라 다음 줄에 해야함\n",
    "    print(a,(b+c)%60)\n",
    "elif (b+c >= 60) :\n",
    "    a+=(b+c)//60 \n",
    "    if (b+c)%60==0: print(a,0)\n",
    "    else: print(a,(b+c)%60)\n",
    "else : print(a,b+c)"
   ]
  },
  {
   "cell_type": "markdown",
   "id": "9289ccce-dc4d-4280-b01d-3dafa441fcb5",
   "metadata": {},
   "source": [
    "> `조건문에서 실행되는 순서도 신경쓰고`\n",
    "\n",
    "> `조건에 해당될 때 실행을 두개해주고 싶으면 같은 줄에 콤마쓰고 실행하는 게 아니라 다음 줄에!`"
   ]
  },
  {
   "cell_type": "markdown",
   "id": "0d94526f-7d76-4890-a41f-97661ebd68a1",
   "metadata": {},
   "source": [
    "> `이렇게 간단하네...`"
   ]
  },
  {
   "cell_type": "code",
   "execution_count": 70,
   "id": "6ec73e7f-f9ae-41f4-b0b9-0ac64a70319f",
   "metadata": {},
   "outputs": [
    {
     "name": "stdin",
     "output_type": "stream",
     "text": [
      " 24 56\n",
      " 56\n"
     ]
    },
    {
     "name": "stdout",
     "output_type": "stream",
     "text": [
      "1 52\n"
     ]
    }
   ],
   "source": [
    "a,b=map(int,input().split())\n",
    "c=int(input())\n",
    "h=(a + (b+c)//60) % 24\n",
    "m=(b+c)%60\n",
    "print(h,m)"
   ]
  },
  {
   "cell_type": "markdown",
   "id": "2aa33f7a-d431-4f12-9c08-b63cbf023b3e",
   "metadata": {},
   "source": [
    "> `2530번`"
   ]
  },
  {
   "cell_type": "code",
   "execution_count": 72,
   "id": "75485329-d352-4a9c-89ad-c6af320da1c2",
   "metadata": {},
   "outputs": [
    {
     "name": "stdin",
     "output_type": "stream",
     "text": [
      " 17 40 45\n",
      " 6015\n"
     ]
    },
    {
     "name": "stdout",
     "output_type": "stream",
     "text": [
      "19 21 0\n"
     ]
    }
   ],
   "source": [
    "a,b,c=map(int,input().split())\n",
    "d=int(input())\n",
    "a_=(a + (b+(c+d)//60)//60) %24\n",
    "b_=(b + (c+d)//60) % 60\n",
    "c_=(c+d)%60\n",
    "print(a_,b_,c_)"
   ]
  },
  {
   "cell_type": "markdown",
   "id": "96969e18-590e-4cda-81bc-3b7fb604fbfb",
   "metadata": {},
   "source": [
    "> `2588번`"
   ]
  },
  {
   "cell_type": "code",
   "execution_count": 102,
   "id": "590e2613-fb09-4589-a1c1-d918556f69d0",
   "metadata": {},
   "outputs": [
    {
     "name": "stdin",
     "output_type": "stream",
     "text": [
      " 472\n",
      " 385\n"
     ]
    },
    {
     "name": "stdout",
     "output_type": "stream",
     "text": [
      "2360\n",
      "3776\n",
      "1416\n",
      "181720\n"
     ]
    }
   ],
   "source": [
    "a=input()\n",
    "b=input()\n",
    "print(int(a)*int(b[2]))\n",
    "print(int(a)*int(b[1]))\n",
    "print(int(a)*int(b[0]))\n",
    "print(int(a)*int(b))"
   ]
  },
  {
   "cell_type": "markdown",
   "id": "c8cc291a-fd92-407b-bf2d-afe299c36bce",
   "metadata": {},
   "source": [
    "> `2752번`"
   ]
  },
  {
   "cell_type": "code",
   "execution_count": 2,
   "id": "9ce987ba-4230-49b5-b849-414de8612c5e",
   "metadata": {},
   "outputs": [
    {
     "name": "stdin",
     "output_type": "stream",
     "text": [
      " 545 55 254\n"
     ]
    },
    {
     "name": "stdout",
     "output_type": "stream",
     "text": [
      "55 254 545\n"
     ]
    }
   ],
   "source": [
    "import numpy as np\n",
    "a,b,c=map(int,input().split())\n",
    "array=np.array([a,b,c])\n",
    "array_=np.sort(array)\n",
    "print(array_[0],array_[1],array_[2])"
   ]
  },
  {
   "cell_type": "code",
   "execution_count": 9,
   "id": "2a256575-1473-4134-99c3-96b3cfe007b9",
   "metadata": {},
   "outputs": [
    {
     "name": "stdin",
     "output_type": "stream",
     "text": [
      " 123 568 56\n"
     ]
    },
    {
     "name": "stdout",
     "output_type": "stream",
     "text": [
      "56 123 568\n"
     ]
    }
   ],
   "source": [
    "a=input().split() #여기서 a는 list\n",
    "n=list(map(int,a)) # 원래는 int(a:list) 불가, 하지만 map이용하면 가능\n",
    "n.sort() # 꼭 넘파이가 아니라도 바로 sort함수 사용 가능\n",
    "print(n[0], n[1], n[2])"
   ]
  },
  {
   "cell_type": "markdown",
   "id": "f7007034-ab7d-42ba-b067-cd5d8dc06659",
   "metadata": {},
   "source": [
    "> `2753번`"
   ]
  },
  {
   "cell_type": "code",
   "execution_count": 19,
   "id": "740acfd7-b596-44a3-96dd-2573d69d17e8",
   "metadata": {},
   "outputs": [
    {
     "name": "stdin",
     "output_type": "stream",
     "text": [
      " 2012\n"
     ]
    },
    {
     "name": "stdout",
     "output_type": "stream",
     "text": [
      "1\n"
     ]
    }
   ],
   "source": [
    "a=int(input())\n",
    "b=0\n",
    "if a%4==0 and a%100!=0 :\n",
    "    print(b+1)\n",
    "elif a%400==0 : print(b+1)\n",
    "else : print(b)"
   ]
  },
  {
   "cell_type": "markdown",
   "id": "57421269-52c8-4a2e-b7eb-5a6877fb4041",
   "metadata": {},
   "source": [
    "> `3004번`"
   ]
  },
  {
   "cell_type": "markdown",
   "id": "f481b0e5-9b21-448a-a788-8ea182aa941c",
   "metadata": {},
   "source": [
    "???"
   ]
  },
  {
   "cell_type": "markdown",
   "id": "1c04d729-3b4a-4607-b0d0-ef62e1c4076e",
   "metadata": {},
   "source": [
    "> `1038번`"
   ]
  },
  {
   "cell_type": "markdown",
   "id": "ce177237-f086-4b3a-a3e3-36a88fb86671",
   "metadata": {},
   "source": [
    "???"
   ]
  },
  {
   "cell_type": "markdown",
   "id": "76b6a5b1-cc10-4b37-99b4-167dfd779991",
   "metadata": {},
   "source": [
    "> `4299번`"
   ]
  },
  {
   "cell_type": "markdown",
   "id": "f2ff68d4-de6e-413b-bbf7-eae8639626d3",
   "metadata": {},
   "source": [
    "???"
   ]
  },
  {
   "cell_type": "markdown",
   "id": "4acbb168-846a-43ca-a229-0b22567b2911",
   "metadata": {},
   "source": [
    "> `5532번`"
   ]
  },
  {
   "cell_type": "code",
   "execution_count": 6,
   "id": "0b0e1c26-f41b-4326-bb4e-e4488a43bc50",
   "metadata": {},
   "outputs": [
    {
     "name": "stdin",
     "output_type": "stream",
     "text": [
      " 20\n",
      " 25\n",
      " 30\n",
      " 6\n",
      " 8\n"
     ]
    },
    {
     "name": "stdout",
     "output_type": "stream",
     "text": [
      "15\n"
     ]
    }
   ],
   "source": [
    "import math\n",
    "a=int(input()) # 총 방학 기간\n",
    "b=int(input()) # 국어 총 페이지\n",
    "c=int(input()) # 수학 총 페이지\n",
    "d=int(input()) # 하루에 풀 수 있는 국어 최대 페이지\n",
    "e=int(input()) # 하루에 풀 수 있는 수학 최대 페이지\n",
    "print(a-math.ceil(max((b/d),(c/e))))"
   ]
  },
  {
   "cell_type": "markdown",
   "id": "fae03a8e-7da0-4e7a-93da-fe81fe722951",
   "metadata": {},
   "source": [
    "수학을 먼저 끝내도 국어가 안 끝나서 놀 수 없음"
   ]
  },
  {
   "cell_type": "markdown",
   "id": "cae152c6-5b20-4188-9359-3243a645e9c3",
   "metadata": {},
   "source": [
    "> `5543번`"
   ]
  },
  {
   "cell_type": "code",
   "execution_count": 10,
   "id": "689d1328-21de-470b-a534-aa028de5ed08",
   "metadata": {},
   "outputs": [
    {
     "name": "stdin",
     "output_type": "stream",
     "text": [
      " 800\n",
      " 700\n",
      " 900\n",
      " 198\n",
      " 330\n"
     ]
    },
    {
     "name": "stdout",
     "output_type": "stream",
     "text": [
      "848\n"
     ]
    }
   ],
   "source": [
    "a=int(input())\n",
    "b=int(input())\n",
    "c=int(input())\n",
    "d=int(input())\n",
    "e=int(input())\n",
    "print(min(a,b,c)+min(d,e)-50)"
   ]
  },
  {
   "cell_type": "markdown",
   "id": "9f3524ee-fe6e-4b8b-a85f-9b4d0eed35ed",
   "metadata": {},
   "source": [
    "> `5575번`"
   ]
  },
  {
   "cell_type": "code",
   "execution_count": 11,
   "id": "e9947c2e-62f1-4e30-8722-0a1013eeba32",
   "metadata": {},
   "outputs": [
    {
     "name": "stdin",
     "output_type": "stream",
     "text": [
      " 5 6 4 8 5 1\n"
     ]
    },
    {
     "ename": "ValueError",
     "evalue": "empty separator",
     "output_type": "error",
     "traceback": [
      "\u001b[1;31m---------------------------------------------------------------------------\u001b[0m",
      "\u001b[1;31mValueError\u001b[0m                                Traceback (most recent call last)",
      "\u001b[1;32m~\\AppData\\Local\\Temp/ipykernel_17268/696587961.py\u001b[0m in \u001b[0;36m<module>\u001b[1;34m\u001b[0m\n\u001b[1;32m----> 1\u001b[1;33m \u001b[0ma\u001b[0m\u001b[1;33m=\u001b[0m\u001b[0mmap\u001b[0m\u001b[1;33m(\u001b[0m\u001b[0mint\u001b[0m\u001b[1;33m,\u001b[0m\u001b[0minput\u001b[0m\u001b[1;33m(\u001b[0m\u001b[1;33m)\u001b[0m\u001b[1;33m.\u001b[0m\u001b[0msplit\u001b[0m\u001b[1;33m(\u001b[0m\u001b[1;34m''\u001b[0m\u001b[1;33m)\u001b[0m\u001b[1;33m)\u001b[0m\u001b[1;33m\u001b[0m\u001b[1;33m\u001b[0m\u001b[0m\n\u001b[0m",
      "\u001b[1;31mValueError\u001b[0m: empty separator"
     ]
    }
   ],
   "source": [
    "a,b,c,d,e,f=map(int,input().split(''))\n",
    "a_,b_,c_,d_,e_,f_=map(int,input().split(''))\n",
    "a_1,b_1,c_1,d_1,e_1,f_1=map(int,input().split(''))\n",
    "\n",
    "# 근무시간?"
   ]
  },
  {
   "cell_type": "markdown",
   "id": "d69e4e30-e8a3-4b5f-b737-62699a6e9d19",
   "metadata": {},
   "source": [
    "> `5596번`"
   ]
  },
  {
   "cell_type": "code",
   "execution_count": 23,
   "id": "6149408a-9c85-4b0d-b3f3-28b38513d45b",
   "metadata": {},
   "outputs": [
    {
     "name": "stdin",
     "output_type": "stream",
     "text": [
      " 10110111\n"
     ]
    },
    {
     "name": "stdout",
     "output_type": "stream",
     "text": [
      "110000100111\n"
     ]
    }
   ],
   "source": [
    "a=str('0b'+input())\n",
    "b=int(a,2)*17\n",
    "print(int(bin(b)[2:]))"
   ]
  },
  {
   "cell_type": "markdown",
   "id": "722e581c-95c1-43ba-932c-c61c471229ab",
   "metadata": {},
   "source": [
    "> `9498번`"
   ]
  },
  {
   "cell_type": "code",
   "execution_count": 30,
   "id": "65fb7e86-80a2-43a7-94d0-686a5da8e6e5",
   "metadata": {},
   "outputs": [
    {
     "name": "stdin",
     "output_type": "stream",
     "text": [
      " 100\n"
     ]
    },
    {
     "name": "stdout",
     "output_type": "stream",
     "text": [
      "A\n"
     ]
    }
   ],
   "source": [
    "a=int(input())\n",
    "if (a>=90 and a<=100) : print('A')\n",
    "elif (a>=80 and a<90) : print('B')\n",
    "elif (a>=70 and a<80) : print('C')\n",
    "elif (a>=60 and a<70) : print('D')\n",
    "else : print('F')"
   ]
  },
  {
   "cell_type": "markdown",
   "id": "a4d616d0-a855-41fb-bf7d-6ea3c7704c49",
   "metadata": {},
   "source": [
    "정확하게 알진 못하지만 여기서 and 대신 &쓰면 좀 안 됨\n",
    "잘 모름"
   ]
  },
  {
   "cell_type": "markdown",
   "id": "a85804cd-e350-448b-8fa7-cf20d0cfa4df",
   "metadata": {},
   "source": [
    "> `10039번`"
   ]
  },
  {
   "cell_type": "code",
   "execution_count": 34,
   "id": "92671f8e-d997-4da6-ab0f-4241a2ec7661",
   "metadata": {},
   "outputs": [
    {
     "name": "stdin",
     "output_type": "stream",
     "text": [
      " 10\n",
      " 65\n",
      " 100\n",
      " 30\n",
      " 95\n"
     ]
    },
    {
     "name": "stdout",
     "output_type": "stream",
     "text": [
      "68.0\n"
     ]
    }
   ],
   "source": [
    "a=int(input())\n",
    "b=int(input())\n",
    "c=int(input())\n",
    "d=int(input())\n",
    "e=int(input())\n",
    "if a<40 : a=40\n",
    "if b<40 : b=40\n",
    "if c<40 : c=40\n",
    "if d<40 : d=40\n",
    "if e<40 : e=40\n",
    "print(int((a+b+c+d+e)/5))\n",
    "# 여기선 elif사용하면 안 됨"
   ]
  },
  {
   "cell_type": "code",
   "execution_count": 36,
   "id": "3f826a10-4e6e-4f46-80ef-b329349cd5a3",
   "metadata": {},
   "outputs": [
    {
     "name": "stdin",
     "output_type": "stream",
     "text": [
      " 15\n",
      " 65\n",
      " 89\n",
      " 5\n",
      " 65\n"
     ]
    },
    {
     "name": "stdout",
     "output_type": "stream",
     "text": [
      "59\n"
     ]
    }
   ],
   "source": [
    "# 이렇게도 가능하구나..........\n",
    "total = 0\n",
    "\n",
    "for i in range(5):\n",
    "    tmp = int(input())\n",
    "\n",
    "    if tmp < 40:\n",
    "        tmp = 40\n",
    "\n",
    "    total += tmp\n",
    "\n",
    "print(total // 5)"
   ]
  },
  {
   "cell_type": "markdown",
   "id": "83ce056d-62f4-494a-9b81-ba620a663338",
   "metadata": {},
   "source": [
    "> `10101번`"
   ]
  },
  {
   "cell_type": "code",
   "execution_count": 42,
   "id": "32e800b0-d759-4f47-8cd6-334ea41e5ea5",
   "metadata": {},
   "outputs": [
    {
     "name": "stdin",
     "output_type": "stream",
     "text": [
      " 54\n",
      " 36\n",
      " 90\n"
     ]
    },
    {
     "name": "stdout",
     "output_type": "stream",
     "text": [
      "Scalene\n"
     ]
    }
   ],
   "source": [
    "a=int(input())\n",
    "b=int(input())\n",
    "c=int(input())\n",
    "if a==60 and b==60 and c==60 : print('Equilateral')\n",
    "elif a+b+c==180 and a==b : print('Isosceles')\n",
    "elif a+b+c==180 and c==b : print('Isosceles')\n",
    "elif a+b+c==180 and a==c : print('Isosceles')\n",
    "elif a+b+c==180 and a!=b and c!=b and a!=c : print('Scalene')\n",
    "else : print('Error')"
   ]
  },
  {
   "cell_type": "code",
   "execution_count": 43,
   "id": "04ccb912-766a-4110-addd-1629d75046d3",
   "metadata": {},
   "outputs": [
    {
     "name": "stdin",
     "output_type": "stream",
     "text": [
      " 50\n",
      " 54\n",
      " 54\n"
     ]
    },
    {
     "name": "stdout",
     "output_type": "stream",
     "text": [
      "Error\n"
     ]
    }
   ],
   "source": [
    "angle = [int(input()) for _ in range(3)] # list comprehension\n",
    "if sum(angle) == 180:\n",
    "    if angle[0] == angle[1] == angle[2]:\n",
    "        print('Equilateral')\n",
    "    elif angle[0] == angle[1] or angle[1] == angle[2] or angle[2] == angle[0]:\n",
    "        print('Isosceles')\n",
    "    else:\n",
    "        print('Scalene')\n",
    "else:\n",
    "    print(\"Error\")"
   ]
  },
  {
   "cell_type": "markdown",
   "id": "79ea1f79-92ee-43d9-9e5f-ef167d4efb88",
   "metadata": {},
   "source": [
    "> `10156번`"
   ]
  },
  {
   "cell_type": "code",
   "execution_count": 49,
   "id": "2fab65d9-75c1-4d00-a167-5f8632a2d0d2",
   "metadata": {},
   "outputs": [
    {
     "name": "stdin",
     "output_type": "stream",
     "text": [
      " 300 4 1000\n"
     ]
    },
    {
     "name": "stdout",
     "output_type": "stream",
     "text": [
      "200\n"
     ]
    }
   ],
   "source": [
    "a,b,c=map(int,input().split(' '))\n",
    "if a*b>c : print(a*b-c)\n",
    "else : print(0)"
   ]
  },
  {
   "cell_type": "markdown",
   "id": "d8b4b14c-00b1-477e-b7b7-6f3495ebc65b",
   "metadata": {},
   "source": [
    "> `10162번`"
   ]
  },
  {
   "cell_type": "code",
   "execution_count": 72,
   "id": "8a390c95-cd11-4fa1-9206-75cc51936364",
   "metadata": {},
   "outputs": [
    {
     "name": "stdin",
     "output_type": "stream",
     "text": [
      " 4560\n"
     ]
    },
    {
     "name": "stdout",
     "output_type": "stream",
     "text": [
      "15 1 0\n"
     ]
    }
   ],
   "source": [
    "T = int(input())\n",
    "\n",
    "if T % 10 != 0:\n",
    "    print(-1)\n",
    "else:\n",
    "    A = T // 300\n",
    "    B = (T % 300) // 60\n",
    "    C = (T % 300) % 60 // 10\n",
    "    print(A, B, C)"
   ]
  },
  {
   "cell_type": "code",
   "execution_count": null,
   "id": "5616ecf0-a840-4901-8690-b6ba1765bb08",
   "metadata": {},
   "outputs": [],
   "source": []
  }
 ],
 "metadata": {
  "kernelspec": {
   "display_name": "Python 3 (ipykernel)",
   "language": "python",
   "name": "python3"
  },
  "language_info": {
   "codemirror_mode": {
    "name": "ipython",
    "version": 3
   },
   "file_extension": ".py",
   "mimetype": "text/x-python",
   "name": "python",
   "nbconvert_exporter": "python",
   "pygments_lexer": "ipython3",
   "version": "3.8.11"
  }
 },
 "nbformat": 4,
 "nbformat_minor": 5
}
